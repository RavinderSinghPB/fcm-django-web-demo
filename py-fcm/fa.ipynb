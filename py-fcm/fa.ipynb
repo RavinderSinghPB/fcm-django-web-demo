{
 "cells": [
  {
   "cell_type": "code",
   "execution_count": 10,
   "metadata": {},
   "outputs": [
    {
     "ename": "ValueError",
     "evalue": "Illegal Firebase credential provided. App must be initialized with a valid credential instance.",
     "output_type": "error",
     "traceback": [
      "\u001b[0;31m---------------------------------------------------------------------------\u001b[0m",
      "\u001b[0;31mValueError\u001b[0m                                Traceback (most recent call last)",
      "\u001b[1;32m/workspaces/fcm-django-web-demo/py-fcm/fa.ipynb Cell 1'\u001b[0m in \u001b[0;36m<cell line: 3>\u001b[0;34m()\u001b[0m\n\u001b[1;32m      <a href='vscode-notebook-cell://codespaces%2Bravindersinghpb-xtrinch-fcm-django-web-demo-gv56rqgrhpwjj/workspaces/fcm-django-web-demo/py-fcm/fa.ipynb#ch0000000vscode-remote?line=0'>1</a>\u001b[0m \u001b[39mimport\u001b[39;00m \u001b[39mfirebase_admin\u001b[39;00m\n\u001b[0;32m----> <a href='vscode-notebook-cell://codespaces%2Bravindersinghpb-xtrinch-fcm-django-web-demo-gv56rqgrhpwjj/workspaces/fcm-django-web-demo/py-fcm/fa.ipynb#ch0000000vscode-remote?line=2'>3</a>\u001b[0m default_app \u001b[39m=\u001b[39m firebase_admin\u001b[39m.\u001b[39;49minitialize_app(credential\u001b[39m=\u001b[39;49m\u001b[39m'\u001b[39;49m\u001b[39mtech-messaging-2f436f82173f.json\u001b[39;49m\u001b[39m'\u001b[39;49m)\n",
      "File \u001b[0;32m/workspaces/fcm-django-web-demo/env/lib/python3.10/site-packages/firebase_admin/__init__.py:64\u001b[0m, in \u001b[0;36minitialize_app\u001b[0;34m(credential, options, name)\u001b[0m\n\u001b[1;32m     62\u001b[0m \u001b[39mif\u001b[39;00m credential \u001b[39mis\u001b[39;00m \u001b[39mNone\u001b[39;00m:\n\u001b[1;32m     63\u001b[0m     credential \u001b[39m=\u001b[39m credentials\u001b[39m.\u001b[39mApplicationDefault()\n\u001b[0;32m---> 64\u001b[0m app \u001b[39m=\u001b[39m App(name, credential, options)\n\u001b[1;32m     65\u001b[0m \u001b[39mwith\u001b[39;00m _apps_lock:\n\u001b[1;32m     66\u001b[0m     \u001b[39mif\u001b[39;00m app\u001b[39m.\u001b[39mname \u001b[39mnot\u001b[39;00m \u001b[39min\u001b[39;00m _apps:\n",
      "File \u001b[0;32m/workspaces/fcm-django-web-demo/env/lib/python3.10/site-packages/firebase_admin/__init__.py:210\u001b[0m, in \u001b[0;36mApp.__init__\u001b[0;34m(self, name, credential, options)\u001b[0m\n\u001b[1;32m    207\u001b[0m \u001b[39mself\u001b[39m\u001b[39m.\u001b[39m_name \u001b[39m=\u001b[39m name\n\u001b[1;32m    209\u001b[0m \u001b[39mif\u001b[39;00m \u001b[39mnot\u001b[39;00m \u001b[39misinstance\u001b[39m(credential, credentials\u001b[39m.\u001b[39mBase):\n\u001b[0;32m--> 210\u001b[0m     \u001b[39mraise\u001b[39;00m \u001b[39mValueError\u001b[39;00m(\u001b[39m'\u001b[39m\u001b[39mIllegal Firebase credential provided. App must be initialized \u001b[39m\u001b[39m'\u001b[39m\n\u001b[1;32m    211\u001b[0m                      \u001b[39m'\u001b[39m\u001b[39mwith a valid credential instance.\u001b[39m\u001b[39m'\u001b[39m)\n\u001b[1;32m    212\u001b[0m \u001b[39mself\u001b[39m\u001b[39m.\u001b[39m_credential \u001b[39m=\u001b[39m credential\n\u001b[1;32m    213\u001b[0m \u001b[39mself\u001b[39m\u001b[39m.\u001b[39m_options \u001b[39m=\u001b[39m _AppOptions(options)\n",
      "\u001b[0;31mValueError\u001b[0m: Illegal Firebase credential provided. App must be initialized with a valid credential instance."
     ]
    }
   ],
   "source": [
    "import firebase_admin\n",
    "\n",
    "default_app = firebase_admin.initialize_app(credential='tech-messaging-2f436f82173f.json')"
   ]
  },
  {
   "cell_type": "code",
   "execution_count": 6,
   "metadata": {},
   "outputs": [
    {
     "ename": "DefaultCredentialsError",
     "evalue": "Could not automatically determine credentials. Please set GOOGLE_APPLICATION_CREDENTIALS or explicitly create credentials and re-run the application. For more information, please see https://cloud.google.com/docs/authentication/getting-started",
     "output_type": "error",
     "traceback": [
      "\u001b[0;31m---------------------------------------------------------------------------\u001b[0m",
      "\u001b[0;31mDefaultCredentialsError\u001b[0m                   Traceback (most recent call last)",
      "\u001b[1;32m/workspaces/fcm-django-web-demo/py-fcm/fa.ipynb Cell 2'\u001b[0m in \u001b[0;36m<cell line: 1>\u001b[0;34m()\u001b[0m\n\u001b[0;32m----> <a href='vscode-notebook-cell://codespaces%2Bravindersinghpb-xtrinch-fcm-django-web-demo-gv56rqgrhpwjj/workspaces/fcm-django-web-demo/py-fcm/fa.ipynb#ch0000001vscode-remote?line=0'>1</a>\u001b[0m \u001b[39mprint\u001b[39m(default_app\u001b[39m.\u001b[39;49mcredential\u001b[39m.\u001b[39;49mget_credential())\n",
      "File \u001b[0;32m/workspaces/fcm-django-web-demo/env/lib/python3.10/site-packages/firebase_admin/credentials.py:142\u001b[0m, in \u001b[0;36mApplicationDefault.get_credential\u001b[0;34m(self)\u001b[0m\n\u001b[1;32m    134\u001b[0m \u001b[39mdef\u001b[39;00m \u001b[39mget_credential\u001b[39m(\u001b[39mself\u001b[39m):\n\u001b[1;32m    135\u001b[0m     \u001b[39m\"\"\"Returns the underlying Google credential.\u001b[39;00m\n\u001b[1;32m    136\u001b[0m \n\u001b[1;32m    137\u001b[0m \u001b[39m    Raises:\u001b[39;00m\n\u001b[0;32m   (...)\u001b[0m\n\u001b[1;32m    140\u001b[0m \u001b[39m    Returns:\u001b[39;00m\n\u001b[1;32m    141\u001b[0m \u001b[39m      google.auth.credentials.Credentials: A Google Auth credential instance.\"\"\"\u001b[39;00m\n\u001b[0;32m--> 142\u001b[0m     \u001b[39mself\u001b[39;49m\u001b[39m.\u001b[39;49m_load_credential()\n\u001b[1;32m    143\u001b[0m     \u001b[39mreturn\u001b[39;00m \u001b[39mself\u001b[39m\u001b[39m.\u001b[39m_g_credential\n",
      "File \u001b[0;32m/workspaces/fcm-django-web-demo/env/lib/python3.10/site-packages/firebase_admin/credentials.py:159\u001b[0m, in \u001b[0;36mApplicationDefault._load_credential\u001b[0;34m(self)\u001b[0m\n\u001b[1;32m    157\u001b[0m \u001b[39mdef\u001b[39;00m \u001b[39m_load_credential\u001b[39m(\u001b[39mself\u001b[39m):\n\u001b[1;32m    158\u001b[0m     \u001b[39mif\u001b[39;00m \u001b[39mnot\u001b[39;00m \u001b[39mself\u001b[39m\u001b[39m.\u001b[39m_g_credential:\n\u001b[0;32m--> 159\u001b[0m         \u001b[39mself\u001b[39m\u001b[39m.\u001b[39m_g_credential, \u001b[39mself\u001b[39m\u001b[39m.\u001b[39m_project_id \u001b[39m=\u001b[39m google\u001b[39m.\u001b[39;49mauth\u001b[39m.\u001b[39;49mdefault(scopes\u001b[39m=\u001b[39;49m_scopes)\n",
      "File \u001b[0;32m/workspaces/fcm-django-web-demo/env/lib/python3.10/site-packages/google/auth/_default.py:616\u001b[0m, in \u001b[0;36mdefault\u001b[0;34m(scopes, request, quota_project_id, default_scopes)\u001b[0m\n\u001b[1;32m    608\u001b[0m             _LOGGER\u001b[39m.\u001b[39mwarning(\n\u001b[1;32m    609\u001b[0m                 \u001b[39m\"\u001b[39m\u001b[39mNo project ID could be determined. Consider running \u001b[39m\u001b[39m\"\u001b[39m\n\u001b[1;32m    610\u001b[0m                 \u001b[39m\"\u001b[39m\u001b[39m`gcloud config set project` or setting the \u001b[39m\u001b[39m%s\u001b[39;00m\u001b[39m \u001b[39m\u001b[39m\"\u001b[39m\n\u001b[1;32m    611\u001b[0m                 \u001b[39m\"\u001b[39m\u001b[39menvironment variable\u001b[39m\u001b[39m\"\u001b[39m,\n\u001b[1;32m    612\u001b[0m                 environment_vars\u001b[39m.\u001b[39mPROJECT,\n\u001b[1;32m    613\u001b[0m             )\n\u001b[1;32m    614\u001b[0m         \u001b[39mreturn\u001b[39;00m credentials, effective_project_id\n\u001b[0;32m--> 616\u001b[0m \u001b[39mraise\u001b[39;00m exceptions\u001b[39m.\u001b[39mDefaultCredentialsError(_HELP_MESSAGE)\n",
      "\u001b[0;31mDefaultCredentialsError\u001b[0m: Could not automatically determine credentials. Please set GOOGLE_APPLICATION_CREDENTIALS or explicitly create credentials and re-run the application. For more information, please see https://cloud.google.com/docs/authentication/getting-started"
     ]
    }
   ],
   "source": [
    "print(default_app.credential.get_credential())"
   ]
  }
 ],
 "metadata": {
  "kernelspec": {
   "display_name": "Python 3.10.4 ('env': venv)",
   "language": "python",
   "name": "python3"
  },
  "language_info": {
   "codemirror_mode": {
    "name": "ipython",
    "version": 3
   },
   "file_extension": ".py",
   "mimetype": "text/x-python",
   "name": "python",
   "nbconvert_exporter": "python",
   "pygments_lexer": "ipython3",
   "version": "3.10.4"
  },
  "orig_nbformat": 4,
  "vscode": {
   "interpreter": {
    "hash": "71e81dabdd42db2214381e75603ace6b1352dabbf75ce80f417a463de8d80c91"
   }
  }
 },
 "nbformat": 4,
 "nbformat_minor": 2
}

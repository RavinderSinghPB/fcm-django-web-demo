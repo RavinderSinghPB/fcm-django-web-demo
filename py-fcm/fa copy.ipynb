{
 "cells": [
  {
   "cell_type": "code",
   "execution_count": 1,
   "metadata": {},
   "outputs": [],
   "source": [
    "import requests\n",
    "import json"
   ]
  },
  {
   "cell_type": "code",
   "execution_count": 9,
   "metadata": {},
   "outputs": [
    {
     "name": "stdout",
     "output_type": "stream",
     "text": [
      "200\n",
      "{'multicast_id': 7145754347352512246, 'success': 1, 'failure': 0, 'canonical_ids': 0, 'results': [{'message_id': 'ad2ed370-12f8-4de8-b9a6-30ee5af11182'}]}\n"
     ]
    }
   ],
   "source": [
    "serverToken = 'AAAAg9EJtx0:APA91bHXIMi7XWIqxnSo1dSqasB1J-STbShqrr34OEMBLbI17acqpeCBBusBajgBdSUW2v8wCYVlXWm80V601SKcvSHY0-dBINN8mSQcEqjmle5jtgW7CTyfxnrVjv1gSb1uDBeqT-ri'\n",
    "deviceToken = 'dbjM_PFud_A:APA91bFBexrbrQ8VwJUr_Vra19kNivzBCqG8MSlcC_EwEUIYff26vkkTlTz8Fj2HmKwYsz7Detx7XSUyrXrs65s66EMO1qKidc5ABcjHPVeH6D4BshnG1g-MKB6EHVUZye3ldBkn9MgH'\n",
    "\n",
    "\n",
    "headers = {\n",
    "        'Content-Type': 'application/json',\n",
    "        'Authorization': 'key=' + serverToken,\n",
    "      }\n",
    "\n",
    "body = {\n",
    "          'notification': {'title': 'Sending push form python script',\n",
    "                            'body': 'New Message'\n",
    "                            },\n",
    "          'to':\n",
    "              deviceToken,\n",
    "          'priority': 'high',\n",
    "        #   'data': dataPayLoad,\n",
    "        }\n",
    "response = requests.post(\"https://fcm.googleapis.com/fcm/send\",headers = headers, data=json.dumps(body))\n",
    "print(response.status_code)\n",
    "\n",
    "print(response.json())"
   ]
  }
 ],
 "metadata": {
  "kernelspec": {
   "display_name": "Python 3.10.4 ('env': venv)",
   "language": "python",
   "name": "python3"
  },
  "language_info": {
   "codemirror_mode": {
    "name": "ipython",
    "version": 3
   },
   "file_extension": ".py",
   "mimetype": "text/x-python",
   "name": "python",
   "nbconvert_exporter": "python",
   "pygments_lexer": "ipython3",
   "version": "3.10.4"
  },
  "orig_nbformat": 4,
  "vscode": {
   "interpreter": {
    "hash": "71e81dabdd42db2214381e75603ace6b1352dabbf75ce80f417a463de8d80c91"
   }
  }
 },
 "nbformat": 4,
 "nbformat_minor": 2
}
